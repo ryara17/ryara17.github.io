{
 "cells": [
  {
   "cell_type": "code",
   "execution_count": 21,
   "id": "7f81f665",
   "metadata": {},
   "outputs": [
    {
     "name": "stdout",
     "output_type": "stream",
     "text": [
      "<PIL.Image.Image image mode=RGBA size=2000x4000 at 0x1C4443A92A0>\n"
     ]
    }
   ],
   "source": [
    "def my_function():\n",
    "    from PIL import Image\n",
    "    img = Image.open('Cristo_crucificado_black.png')\n",
    "    img = img.convert(\"RGBA\")\n",
    "\n",
    "    pixdata = img.load()\n",
    "\n",
    "    width, height = img.size\n",
    "    for y in range(height):\n",
    "        for x in range(width):\n",
    "            if pixdata[x, y] == (0, 0, 0, 0):\n",
    "                pixdata[x, y] = (255, 255, 255, 255)\n",
    "\n",
    "    img.save(\"recent.png\", \"PNG\")"
   ]
  },
  {
   "cell_type": "code",
   "execution_count": null,
   "id": "eaa4fce9",
   "metadata": {},
   "outputs": [],
   "source": []
  }
 ],
 "metadata": {
  "kernelspec": {
   "display_name": "Python 3 (ipykernel)",
   "language": "python",
   "name": "python3"
  },
  "language_info": {
   "codemirror_mode": {
    "name": "ipython",
    "version": 3
   },
   "file_extension": ".py",
   "mimetype": "text/x-python",
   "name": "python",
   "nbconvert_exporter": "python",
   "pygments_lexer": "ipython3",
   "version": "3.10.4"
  }
 },
 "nbformat": 4,
 "nbformat_minor": 5
}
